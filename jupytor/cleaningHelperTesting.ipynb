{
 "cells": [
  {
   "cell_type": "code",
   "execution_count": null,
   "metadata": {},
   "outputs": [],
   "source": [
    "from sqlalchemy import create_engine\n",
    "import pandas as pd\n",
    "URL = 'mysql+pymysql://{}:{}@{}:{}/{}?charset=utf8mb4'.format('root', 'root', 'localhost', 3306, 'exchange')\n",
    "engine = create_engine(URL, encoding = 'utf-8')"
   ]
  },
  {
   "cell_type": "code",
   "execution_count": null,
   "metadata": {},
   "outputs": [],
   "source": [
    "exdf = pd.read_sql('service_model',columns=['service_description'], con=engine)\n",
    "exdf.head()"
   ]
  },
  {
   "cell_type": "code",
   "execution_count": null,
   "metadata": {},
   "outputs": [],
   "source": [
    "for i in exdf.index:\n",
    "    exdf.loc[i, 'service_description'] = exdf.loc[i, 'service_description'].lower()\n",
    "exdf.head()"
   ]
  },
  {
   "cell_type": "code",
   "execution_count": null,
   "metadata": {},
   "outputs": [],
   "source": []
  }
 ],
 "metadata": {
  "kernelspec": {
   "display_name": "Python 3.7.13 ('RSgradProj')",
   "language": "python",
   "name": "python3"
  },
  "language_info": {
   "codemirror_mode": {
    "name": "ipython",
    "version": 3
   },
   "file_extension": ".py",
   "mimetype": "text/x-python",
   "name": "python",
   "nbconvert_exporter": "python",
   "pygments_lexer": "ipython3",
   "version": "3.7.13"
  },
  "orig_nbformat": 4,
  "vscode": {
   "interpreter": {
    "hash": "531f4f1a485b2af4443540a758d862b76b81e1bf05bd535e79b35da2877daa3b"
   }
  }
 },
 "nbformat": 4,
 "nbformat_minor": 2
}
