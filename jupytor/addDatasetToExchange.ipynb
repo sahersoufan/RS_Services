{
 "cells": [
  {
   "cell_type": "code",
   "execution_count": null,
   "metadata": {},
   "outputs": [],
   "source": [
    "import pandas as pd\n",
    "from sqlalchemy import create_engine\n",
    "exchangeUrl = 'mysql+pymysql://{}:{}@{}:{}/{}?charset=utf8mb4&'.format('SAHER','root','192.168.1.104',3306,'exchange')\n",
    "engine = create_engine(exchangeUrl, encoding='utf-8')"
   ]
  },
  {
   "cell_type": "code",
   "execution_count": null,
   "metadata": {},
   "outputs": [],
   "source": [
    "exDF = pd.read_sql('service_model', con=engine)"
   ]
  },
  {
   "cell_type": "code",
   "execution_count": null,
   "metadata": {},
   "outputs": [],
   "source": [
    "exDF.head()"
   ]
  },
  {
   "cell_type": "code",
   "execution_count": null,
   "metadata": {},
   "outputs": [],
   "source": [
    "exDF.set_index(['id'], inplace=True)\n"
   ]
  },
  {
   "cell_type": "code",
   "execution_count": null,
   "metadata": {},
   "outputs": [],
   "source": [
    "exDF.head()"
   ]
  },
  {
   "cell_type": "code",
   "execution_count": null,
   "metadata": {},
   "outputs": [],
   "source": [
    "jobdf = pd.read_csv('../data/cleanedData.csv', index_col=[0])\n",
    "jobdf"
   ]
  },
  {
   "cell_type": "code",
   "execution_count": null,
   "metadata": {},
   "outputs": [],
   "source": [
    "jobdf['id'] = jobdf.index\n",
    "jobdf.set_index('id', inplace=True)\n",
    "jobdf"
   ]
  },
  {
   "cell_type": "code",
   "execution_count": null,
   "metadata": {},
   "outputs": [],
   "source": [
    "jobdf.rename(columns={'job_title':'service_name', 'job_description':'service_description'}, inplace=True)\n",
    "jobdf"
   ]
  },
  {
   "cell_type": "markdown",
   "metadata": {},
   "source": [
    "user_id\tcreated_at"
   ]
  },
  {
   "cell_type": "code",
   "execution_count": null,
   "metadata": {},
   "outputs": [],
   "source": [
    "import random\n",
    "jobdf['user_id'] = None\n",
    "jobdf['created_at'] = None\n",
    "jobdf"
   ]
  },
  {
   "cell_type": "code",
   "execution_count": null,
   "metadata": {},
   "outputs": [],
   "source": [
    "tj = jobdf.copy()"
   ]
  },
  {
   "cell_type": "code",
   "execution_count": null,
   "metadata": {},
   "outputs": [],
   "source": [
    "ts = exDF.copy()"
   ]
  },
  {
   "cell_type": "code",
   "execution_count": null,
   "metadata": {},
   "outputs": [],
   "source": [
    "tj.drop(tj.tail(33711).index, inplace=True)\n",
    "tj"
   ]
  },
  {
   "cell_type": "code",
   "execution_count": null,
   "metadata": {},
   "outputs": [],
   "source": [
    "ts = ts.append(tj)\n",
    "ts"
   ]
  },
  {
   "cell_type": "code",
   "execution_count": null,
   "metadata": {},
   "outputs": [],
   "source": [
    "import bcrypt\n",
    "salt = bcrypt.gensalt()\n",
    "hashed = bcrypt.hashpw(b'test',salt)\n",
    "hashed\n"
   ]
  },
  {
   "cell_type": "code",
   "execution_count": null,
   "metadata": {},
   "outputs": [],
   "source": [
    "bcrypt.checkpw(b'test', b'$2a$10$fqrrZpI24m1uqvtsR2n9n.7/x3lwTzPzykOxTvaVbq8U28P5mq')\n"
   ]
  },
  {
   "cell_type": "code",
   "execution_count": null,
   "metadata": {},
   "outputs": [],
   "source": [
    "usdf = pd.read_sql('user', con=engine, index_col=['id'])\n",
    "usdf"
   ]
  },
  {
   "cell_type": "code",
   "execution_count": null,
   "metadata": {},
   "outputs": [],
   "source": [
    "names = ['Aaren','Aarika','Abagael','Abagail','Abbe','Abbey','Abbi','Abbie','Abby','Abbye','Abigael','Abigail','Abigale','Abra','Ada','Adah','Adaline','Adan','Adara','Adda','Addi','Addia','Addie','Addy','Adel','Adela','Adelaida','Adelaide','Adele','Adelheid','Adelice','Adelina','Adelind','Adeline','Adella','Adelle','Adena','Adey','Adi','Adiana','Adina','Adora','Adore','Adoree','Adorne','Adrea','Adria','Adriaens','Adrian','Adriana','Adriane','Adrianna','Adrianne','Adriena','Adrienne','Aeriel','Aeriela','Aeriell','Afton','Ag','Agace','Agata','Agatha','Agathe','Aggi','Aggie','Aggy','Agna','Agnella','Agnes','Agnese','Agnesse','Agneta','Agnola','Agretha','Aida','Aidan','Aigneis','Aila','Aile','Ailee','Aileen','Ailene','Ailey','Aili','Ailina','Ailis','Ailsun','Ailyn','Aime','Aimee','Aimil','Aindrea','Ainslee','Ainsley','Ainslie','Ajay','Alaine','Alameda','Alana','Alanah']"
   ]
  },
  {
   "cell_type": "code",
   "execution_count": null,
   "metadata": {},
   "outputs": [],
   "source": [
    "role = 1\n",
    "age = 25\n",
    "description = None\n",
    "gender = 'NN'\n",
    "imagepath = ''\n",
    "phone = ''\n",
    "profilepath = ''\n",
    "username = None\n",
    "firstname = None\n",
    "lastname = None\n",
    "password = None\n",
    "\n",
    "\n",
    "tempUserdf = pd.DataFrame()\n",
    "tempDic = {}\n",
    "for n in names:\n",
    "    tempDic['role'] = role\n",
    "    tempDic['age'] = age\n",
    "    tempDic['description'] = description\n",
    "    tempDic['gender'] = gender\n",
    "    tempDic['imagepath'] = imagepath\n",
    "    tempDic['phone'] = phone\n",
    "    tempDic['profilepath'] = profilepath\n",
    "    tempDic['username'] = n + '@se.com'\n",
    "    tempDic['firstname'] = n\n",
    "    tempDic['lastname'] = 'belbo'\n",
    "    tempDic['password'] = bcrypt.hashpw(b'test',salt)\n",
    "\n",
    "    tempUserdf = tempUserdf.append(tempDic, ignore_index=True)\n",
    "    tempDic = {}\n",
    "\n",
    "tempUserdf\n"
   ]
  },
  {
   "cell_type": "code",
   "execution_count": null,
   "metadata": {},
   "outputs": [],
   "source": [
    "usdf = usdf.append(tempUserdf)"
   ]
  },
  {
   "cell_type": "code",
   "execution_count": null,
   "metadata": {},
   "outputs": [],
   "source": [
    "usdf = usdf[~usdf.index.duplicated(keep='first')]\n",
    "usdf[:30]"
   ]
  },
  {
   "cell_type": "markdown",
   "metadata": {},
   "source": []
  },
  {
   "cell_type": "markdown",
   "metadata": {},
   "source": []
  },
  {
   "cell_type": "markdown",
   "metadata": {},
   "source": []
  },
  {
   "cell_type": "markdown",
   "metadata": {},
   "source": []
  },
  {
   "cell_type": "markdown",
   "metadata": {},
   "source": []
  },
  {
   "cell_type": "markdown",
   "metadata": {},
   "source": []
  },
  {
   "cell_type": "code",
   "execution_count": null,
   "metadata": {},
   "outputs": [],
   "source": [
    "se = ts.loc[96, 'user_id'].tolist()[0]\n",
    "se"
   ]
  },
  {
   "cell_type": "code",
   "execution_count": null,
   "metadata": {},
   "outputs": [],
   "source": [
    "for i in ts.index:\n",
    "    if type(ts.loc[i, 'user_id']) == pd.Series:\n",
    "        print(i)"
   ]
  },
  {
   "cell_type": "code",
   "execution_count": null,
   "metadata": {},
   "outputs": [],
   "source": [
    "ts.loc[0, 'user_id'] == None"
   ]
  },
  {
   "cell_type": "code",
   "execution_count": null,
   "metadata": {},
   "outputs": [],
   "source": [
    "import random\n",
    "import numpy as np\n",
    "\n",
    "idlis = usdf.index.to_list()\n",
    "tss = ts.copy()\n",
    "\n",
    "for row in tss.index.tolist():\n",
    "    try:\n",
    "        if type(tss.loc[row, 'user_id']) == pd.Series:\n",
    "           tss.loc[row, 'user_id'] = tss.loc[row, 'user_id'].tolist()[0]\n",
    "    except:\n",
    "        print(\"seri error\")\n",
    "\n",
    "    try:\n",
    "        if tss.loc[row, 'user_id'] == None:\n",
    "            tss.loc[row, 'user_id'] = idlis[random.randrange(0, len(idlis))]\n",
    "    except:\n",
    "        print(\"none error\")\n",
    "tss\n"
   ]
  },
  {
   "cell_type": "code",
   "execution_count": null,
   "metadata": {},
   "outputs": [],
   "source": [
    "tss['user_id'] = tss['user_id'].astype(int)\n",
    "tss"
   ]
  },
  {
   "cell_type": "code",
   "execution_count": null,
   "metadata": {},
   "outputs": [],
   "source": []
  },
  {
   "cell_type": "code",
   "execution_count": null,
   "metadata": {},
   "outputs": [],
   "source": [
    "removethis = [96,99,103,119,126,128,156,335,343,361]\n",
    "tss = tss.drop(removethis)\n",
    "tss"
   ]
  },
  {
   "cell_type": "code",
   "execution_count": null,
   "metadata": {},
   "outputs": [],
   "source": [
    "tss.to_sql('service_model', con=engine, schema='exchange', if_exists=\"append\" )"
   ]
  },
  {
   "cell_type": "code",
   "execution_count": null,
   "metadata": {},
   "outputs": [],
   "source": [
    "a = usdf.index\n",
    "usdf['id'] = a\n",
    "usdf.set_index('id', inplace=True)\n",
    "usdf"
   ]
  },
  {
   "cell_type": "code",
   "execution_count": null,
   "metadata": {},
   "outputs": [],
   "source": [
    "remoeid = [1,7,8,11,12]\n",
    "usdf.drop(remoeid, inplace=True)"
   ]
  },
  {
   "cell_type": "code",
   "execution_count": null,
   "metadata": {},
   "outputs": [],
   "source": [
    "usdf.to_sql('user', con=engine, schema='exchange', if_exists=\"append\" )"
   ]
  }
 ],
 "metadata": {
  "interpreter": {
   "hash": "531f4f1a485b2af4443540a758d862b76b81e1bf05bd535e79b35da2877daa3b"
  },
  "kernelspec": {
   "display_name": "Python 3.7.13 ('RSgradProj')",
   "language": "python",
   "name": "python3"
  },
  "language_info": {
   "codemirror_mode": {
    "name": "ipython",
    "version": 3
   },
   "file_extension": ".py",
   "mimetype": "text/x-python",
   "name": "python",
   "nbconvert_exporter": "python",
   "pygments_lexer": "ipython3",
   "version": "3.7.13"
  },
  "orig_nbformat": 4
 },
 "nbformat": 4,
 "nbformat_minor": 2
}
